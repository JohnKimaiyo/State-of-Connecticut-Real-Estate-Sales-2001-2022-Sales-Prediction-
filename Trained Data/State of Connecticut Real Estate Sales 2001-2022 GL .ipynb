{
 "cells": [
  {
   "cell_type": "markdown",
   "id": "2cf015f5-2694-4526-b027-d9aac2f8c616",
   "metadata": {},
   "source": [
    "# Sales prediction model for State of Connecticut  Real Estate Sales 2001-2022 GL\n",
    "\n",
    "The Office of Policy and Management maintains a listing of all real estate sales with a sales price of $2,000 or greater that occur between October 1 and September 30 of each year. For each sale record, the file includes: town, property address, date of sale, property type (residential, apartment, commercial, industrial or vacant land), sales price, and property assessment.\n",
    "\n",
    "Source Data :  https://catalog.data.gov/dataset/real-estate-sales-2001-2018\n",
    "\n",
    "Return Home : https://johnkimaiyo.vercel.app/\n",
    "\n",
    "Creating a prediction model using Python and Pandas involves several steps, including data preprocessing, exploratory data analysis, feature engineering, model selection, training, and evaluation."
   ]
  },
  {
   "cell_type": "markdown",
   "id": "288e8055-9601-44a9-ac19-fe4d144a0af1",
   "metadata": {},
   "source": [
    "## Step 1: Import Necessary Libraries"
   ]
  },
  {
   "cell_type": "code",
   "execution_count": 1,
   "id": "86e3a487-0ce1-441d-93a9-a55554d26f81",
   "metadata": {},
   "outputs": [],
   "source": [
    "import pandas as pd\n",
    "import numpy as np\n",
    "from sklearn.model_selection import train_test_split\n",
    "from sklearn.linear_model import LinearRegression\n",
    "from sklearn.metrics import mean_squared_error\n",
    "import matplotlib.pyplot as plt\n",
    "import joblib"
   ]
  },
  {
   "cell_type": "markdown",
   "id": "554adcac-bf62-4be8-906a-9cbb499ab0a9",
   "metadata": {},
   "source": [
    "## Step 2: Load the Dataset"
   ]
  },
  {
   "cell_type": "code",
   "execution_count": 2,
   "id": "483a904a-63e2-4e29-9c36-9645bf125aed",
   "metadata": {},
   "outputs": [
    {
     "name": "stderr",
     "output_type": "stream",
     "text": [
      "C:\\Users\\jki\\AppData\\Local\\Temp\\ipykernel_20024\\2726286131.py:1: DtypeWarning: Columns (8,9,10,11,12) have mixed types. Specify dtype option on import or set low_memory=False.\n",
      "  Real_Estate_Sales_df = pd.read_csv(r\"C:\\Users\\jki\\Desktop\\Data Scence Projects\\Sate of Connecticut Real Etstae Sales\\Machine Learning\\Source Data\\Real_Estate_Sales_2001-2022_GL.csv\")\n"
     ]
    },
    {
     "name": "stdout",
     "output_type": "stream",
     "text": [
      "   Serial Number  List Year Date Recorded     Town           Address  \\\n",
      "0         220008       2022    01/30/2023  Andover       618 ROUTE 6   \n",
      "1        2020348       2020    09/13/2021  Ansonia   230 WAKELEE AVE   \n",
      "2          20002       2020    10/02/2020  Ashford   390 TURNPIKE RD   \n",
      "3         210317       2021    07/05/2022     Avon   53 COTSWOLD WAY   \n",
      "4         200212       2020    03/09/2021     Avon  5 CHESTNUT DRIVE   \n",
      "\n",
      "   Assessed Value  Sale Amount  Sales Ratio Property Type Residential Type  \\\n",
      "0        139020.0     232000.0       0.5992   Residential    Single Family   \n",
      "1        150500.0     325000.0       0.4630    Commercial              NaN   \n",
      "2        253000.0     430000.0       0.5883   Residential    Single Family   \n",
      "3        329730.0     805000.0       0.4096   Residential    Single Family   \n",
      "4        130400.0     179900.0       0.7248   Residential            Condo   \n",
      "\n",
      "  Non Use Code Assessor Remarks OPM remarks  \\\n",
      "0          NaN              NaN         NaN   \n",
      "1          NaN              NaN         NaN   \n",
      "2          NaN              NaN         NaN   \n",
      "3          NaN              NaN         NaN   \n",
      "4          NaN              NaN         NaN   \n",
      "\n",
      "                             Location  \n",
      "0  POINT (-72.343628962 41.728431984)  \n",
      "1                                 NaN  \n",
      "2                                 NaN  \n",
      "3  POINT (-72.846365959 41.781677018)  \n",
      "4                                 NaN  \n"
     ]
    }
   ],
   "source": [
    "Real_Estate_Sales_df = pd.read_csv(r\"C:\\Users\\jki\\Desktop\\Data Scence Projects\\Sate of Connecticut Real Etstae Sales\\Machine Learning\\Source Data\\Real_Estate_Sales_2001-2022_GL.csv\")\n",
    "\n",
    "# Display the first few rows of the dataset\n",
    "print(Real_Estate_Sales_df.head())"
   ]
  },
  {
   "cell_type": "markdown",
   "id": "68f4136b-95a1-47e0-80c7-b447cc0d607d",
   "metadata": {},
   "source": [
    "## Step 3: Data Preprocessing"
   ]
  },
  {
   "cell_type": "markdown",
   "id": "77c2069b-be61-430c-a8fd-eb6c6fe3ed29",
   "metadata": {},
   "source": [
    "Before building the model, you need to preprocess the data. This includes handling missing values, converting data types, and encoding categorical variables if necessary."
   ]
  },
  {
   "cell_type": "code",
   "execution_count": 4,
   "id": "2365a807-ce70-4401-b0e8-dbe01fb00d1d",
   "metadata": {},
   "outputs": [
    {
     "name": "stdout",
     "output_type": "stream",
     "text": [
      "Serial Number             0\n",
      "List Year                 0\n",
      "Date Recorded             2\n",
      "Town                      0\n",
      "Address                  51\n",
      "Assessed Value            0\n",
      "Sale Amount               0\n",
      "Sales Ratio               0\n",
      "Property Type        382446\n",
      "Residential Type     398389\n",
      "Non Use Code         784178\n",
      "Assessor Remarks     926401\n",
      "OPM remarks         1084598\n",
      "Location             799518\n",
      "dtype: int64\n"
     ]
    }
   ],
   "source": [
    "# lets check for  missing values\n",
    "missing_values =  Real_Estate_Sales_df.isna().sum()\n",
    "print(missing_values)"
   ]
  },
  {
   "cell_type": "code",
   "execution_count": 7,
   "id": "b0f778bb-b226-4e45-92c0-0002ff874571",
   "metadata": {},
   "outputs": [
    {
     "name": "stdout",
     "output_type": "stream",
     "text": [
      "Serial Number       0\n",
      "List Year           0\n",
      "Date Recorded       0\n",
      "Town                0\n",
      "Address             0\n",
      "Assessed Value      0\n",
      "Sale Amount         0\n",
      "Sales Ratio         0\n",
      "Property Type       0\n",
      "Residential Type    0\n",
      "Non Use Code        0\n",
      "Assessor Remarks    0\n",
      "OPM remarks         0\n",
      "Location            0\n",
      "dtype: int64\n"
     ]
    }
   ],
   "source": [
    "# lets remove missing values\n",
    "Real_Estate_Sales_df.dropna(subset=['Date Recorded','Address','Property Type','Residential Type','Non Use Code','Assessor Remarks','OPM remarks','Location'],inplace =True)\n",
    "# lets confirm existance of missing values\n",
    "missing_values = Real_Estate_Sales_df.isna().sum()\n",
    "print(missing_values)"
   ]
  },
  {
   "cell_type": "code",
   "execution_count": 5,
   "id": "f9cf6fb4-c9f0-4257-b1cb-cd5af26b76b0",
   "metadata": {},
   "outputs": [
    {
     "data": {
      "text/html": [
       "<div>\n",
       "<style scoped>\n",
       "    .dataframe tbody tr th:only-of-type {\n",
       "        vertical-align: middle;\n",
       "    }\n",
       "\n",
       "    .dataframe tbody tr th {\n",
       "        vertical-align: top;\n",
       "    }\n",
       "\n",
       "    .dataframe thead th {\n",
       "        text-align: right;\n",
       "    }\n",
       "</style>\n",
       "<table border=\"1\" class=\"dataframe\">\n",
       "  <thead>\n",
       "    <tr style=\"text-align: right;\">\n",
       "      <th></th>\n",
       "      <th>Serial Number</th>\n",
       "      <th>List Year</th>\n",
       "      <th>Assessed Value</th>\n",
       "      <th>Sale Amount</th>\n",
       "      <th>Sales Ratio</th>\n",
       "    </tr>\n",
       "  </thead>\n",
       "  <tbody>\n",
       "    <tr>\n",
       "      <th>count</th>\n",
       "      <td>1.097629e+06</td>\n",
       "      <td>1.097629e+06</td>\n",
       "      <td>1.097629e+06</td>\n",
       "      <td>1.097629e+06</td>\n",
       "      <td>1.097629e+06</td>\n",
       "    </tr>\n",
       "    <tr>\n",
       "      <th>mean</th>\n",
       "      <td>5.370357e+05</td>\n",
       "      <td>2.011218e+03</td>\n",
       "      <td>2.818016e+05</td>\n",
       "      <td>4.053146e+05</td>\n",
       "      <td>9.603926e+00</td>\n",
       "    </tr>\n",
       "    <tr>\n",
       "      <th>std</th>\n",
       "      <td>7.526074e+06</td>\n",
       "      <td>6.773485e+00</td>\n",
       "      <td>1.657890e+06</td>\n",
       "      <td>5.143492e+06</td>\n",
       "      <td>1.801664e+03</td>\n",
       "    </tr>\n",
       "    <tr>\n",
       "      <th>min</th>\n",
       "      <td>0.000000e+00</td>\n",
       "      <td>2.001000e+03</td>\n",
       "      <td>0.000000e+00</td>\n",
       "      <td>0.000000e+00</td>\n",
       "      <td>0.000000e+00</td>\n",
       "    </tr>\n",
       "    <tr>\n",
       "      <th>25%</th>\n",
       "      <td>3.071300e+04</td>\n",
       "      <td>2.005000e+03</td>\n",
       "      <td>8.909000e+04</td>\n",
       "      <td>1.450000e+05</td>\n",
       "      <td>4.778667e-01</td>\n",
       "    </tr>\n",
       "    <tr>\n",
       "      <th>50%</th>\n",
       "      <td>8.070600e+04</td>\n",
       "      <td>2.011000e+03</td>\n",
       "      <td>1.405800e+05</td>\n",
       "      <td>2.330000e+05</td>\n",
       "      <td>6.105663e-01</td>\n",
       "    </tr>\n",
       "    <tr>\n",
       "      <th>75%</th>\n",
       "      <td>1.703410e+05</td>\n",
       "      <td>2.018000e+03</td>\n",
       "      <td>2.282700e+05</td>\n",
       "      <td>3.750000e+05</td>\n",
       "      <td>7.707200e-01</td>\n",
       "    </tr>\n",
       "    <tr>\n",
       "      <th>max</th>\n",
       "      <td>2.000500e+09</td>\n",
       "      <td>2.022000e+03</td>\n",
       "      <td>8.815100e+08</td>\n",
       "      <td>5.000000e+09</td>\n",
       "      <td>1.226420e+06</td>\n",
       "    </tr>\n",
       "  </tbody>\n",
       "</table>\n",
       "</div>"
      ],
      "text/plain": [
       "       Serial Number     List Year  Assessed Value   Sale Amount   Sales Ratio\n",
       "count   1.097629e+06  1.097629e+06    1.097629e+06  1.097629e+06  1.097629e+06\n",
       "mean    5.370357e+05  2.011218e+03    2.818016e+05  4.053146e+05  9.603926e+00\n",
       "std     7.526074e+06  6.773485e+00    1.657890e+06  5.143492e+06  1.801664e+03\n",
       "min     0.000000e+00  2.001000e+03    0.000000e+00  0.000000e+00  0.000000e+00\n",
       "25%     3.071300e+04  2.005000e+03    8.909000e+04  1.450000e+05  4.778667e-01\n",
       "50%     8.070600e+04  2.011000e+03    1.405800e+05  2.330000e+05  6.105663e-01\n",
       "75%     1.703410e+05  2.018000e+03    2.282700e+05  3.750000e+05  7.707200e-01\n",
       "max     2.000500e+09  2.022000e+03    8.815100e+08  5.000000e+09  1.226420e+06"
      ]
     },
     "execution_count": 5,
     "metadata": {},
     "output_type": "execute_result"
    }
   ],
   "source": [
    "# let check if we have unwanted negative values\n",
    "Real_Estate_Sales_df.describe()"
   ]
  },
  {
   "cell_type": "code",
   "execution_count": 12,
   "id": "d2c207ad-6217-4fe2-9750-4d7128618b4d",
   "metadata": {},
   "outputs": [
    {
     "name": "stdout",
     "output_type": "stream",
     "text": [
      "<class 'pandas.core.frame.DataFrame'>\n",
      "Index: 560 entries, 527 to 1093559\n",
      "Data columns (total 10 columns):\n",
      " #   Column          Non-Null Count  Dtype  \n",
      "---  ------          --------------  -----  \n",
      " 0   Serial Number   560 non-null    int64  \n",
      " 1   List Year       560 non-null    int64  \n",
      " 2   Town            560 non-null    object \n",
      " 3   Address         560 non-null    object \n",
      " 4   Assessed Value  560 non-null    float64\n",
      " 5   Sale Amount     560 non-null    float64\n",
      " 6   Sales Ratio     560 non-null    float64\n",
      " 7   Year            560 non-null    int32  \n",
      " 8   Month           560 non-null    int32  \n",
      " 9   Day             560 non-null    int32  \n",
      "dtypes: float64(3), int32(3), int64(2), object(2)\n",
      "memory usage: 41.6+ KB\n"
     ]
    }
   ],
   "source": [
    "# lets check for data types to perform numerical calculations\n",
    "Real_Estate_Sales_df.info()"
   ]
  },
  {
   "cell_type": "code",
   "execution_count": 15,
   "id": "b97d1d70-9058-4c9c-822d-a8e6403f3978",
   "metadata": {},
   "outputs": [
    {
     "name": "stdout",
     "output_type": "stream",
     "text": [
      "Index(['Serial Number', 'List Year', 'Town', 'Address', 'Assessed Value',\n",
      "       'Sale Amount', 'Sales Ratio', 'Year', 'Month', 'Day'],\n",
      "      dtype='object')\n"
     ]
    }
   ],
   "source": [
    "print(Real_Estate_Sales_df.columns)\n"
   ]
  },
  {
   "cell_type": "code",
   "execution_count": 32,
   "id": "f68440ef-380b-48cd-850e-c18c7b7df97d",
   "metadata": {},
   "outputs": [
    {
     "data": {
      "text/html": [
       "<div>\n",
       "<style scoped>\n",
       "    .dataframe tbody tr th:only-of-type {\n",
       "        vertical-align: middle;\n",
       "    }\n",
       "\n",
       "    .dataframe tbody tr th {\n",
       "        vertical-align: top;\n",
       "    }\n",
       "\n",
       "    .dataframe thead th {\n",
       "        text-align: right;\n",
       "    }\n",
       "</style>\n",
       "<table border=\"1\" class=\"dataframe\">\n",
       "  <thead>\n",
       "    <tr style=\"text-align: right;\">\n",
       "      <th></th>\n",
       "      <th>Assessed Value</th>\n",
       "      <th>Sale Amount</th>\n",
       "      <th>Sales Ratio</th>\n",
       "      <th>Year</th>\n",
       "      <th>Month</th>\n",
       "      <th>Day</th>\n",
       "    </tr>\n",
       "  </thead>\n",
       "  <tbody>\n",
       "    <tr>\n",
       "      <th>527</th>\n",
       "      <td>207700.0</td>\n",
       "      <td>400000.0</td>\n",
       "      <td>0.5193</td>\n",
       "      <td>2023</td>\n",
       "      <td>9</td>\n",
       "      <td>20</td>\n",
       "    </tr>\n",
       "    <tr>\n",
       "      <th>922</th>\n",
       "      <td>49700.0</td>\n",
       "      <td>29900.0</td>\n",
       "      <td>1.6622</td>\n",
       "      <td>2023</td>\n",
       "      <td>2</td>\n",
       "      <td>27</td>\n",
       "    </tr>\n",
       "    <tr>\n",
       "      <th>940</th>\n",
       "      <td>208230.0</td>\n",
       "      <td>423261.0</td>\n",
       "      <td>0.4920</td>\n",
       "      <td>2022</td>\n",
       "      <td>10</td>\n",
       "      <td>31</td>\n",
       "    </tr>\n",
       "    <tr>\n",
       "      <th>1345</th>\n",
       "      <td>169050.0</td>\n",
       "      <td>351000.0</td>\n",
       "      <td>0.4816</td>\n",
       "      <td>2023</td>\n",
       "      <td>3</td>\n",
       "      <td>30</td>\n",
       "    </tr>\n",
       "    <tr>\n",
       "      <th>1632</th>\n",
       "      <td>769900.0</td>\n",
       "      <td>3500000.0</td>\n",
       "      <td>0.2200</td>\n",
       "      <td>2023</td>\n",
       "      <td>4</td>\n",
       "      <td>26</td>\n",
       "    </tr>\n",
       "  </tbody>\n",
       "</table>\n",
       "</div>"
      ],
      "text/plain": [
       "      Assessed Value  Sale Amount  Sales Ratio  Year  Month  Day\n",
       "527         207700.0     400000.0       0.5193  2023      9   20\n",
       "922          49700.0      29900.0       1.6622  2023      2   27\n",
       "940         208230.0     423261.0       0.4920  2022     10   31\n",
       "1345        169050.0     351000.0       0.4816  2023      3   30\n",
       "1632        769900.0    3500000.0       0.2200  2023      4   26"
      ]
     },
     "execution_count": 32,
     "metadata": {},
     "output_type": "execute_result"
    }
   ],
   "source": [
    "# lets drop unwanted columns \n",
    "\n",
    "# Columns to drop\n",
    "columns_to_drop = ['Property Type', 'Residential Type','Non Use Code','Assessor Remarks','OPM remarks','Location','Address','Town','Serial Number','List Year']\n",
    "Real_Estate_Sales_df.drop(columns=columns_to_drop, inplace=True,errors='ignore')\n",
    "Real_Estate_Sales_df.head(5)"
   ]
  },
  {
   "cell_type": "markdown",
   "id": "2310f143-0db3-4b3b-a269-485fa9ed3cec",
   "metadata": {},
   "source": [
    "## Step 4: Exploratory Data Analysis (EDA)"
   ]
  },
  {
   "cell_type": "code",
   "execution_count": 33,
   "id": "972ec1c0-cc21-4309-aa2a-e355025dcc7d",
   "metadata": {},
   "outputs": [
    {
     "name": "stdout",
     "output_type": "stream",
     "text": [
      "       Assessed Value   Sale Amount  Sales Ratio         Year       Month  \\\n",
      "count    5.600000e+02  5.600000e+02   560.000000   560.000000  560.000000   \n",
      "mean     1.701261e+05  9.091623e+05     0.838064  2020.926786    6.951786   \n",
      "std      1.669984e+05  1.346897e+07     1.091531     1.850397    3.215486   \n",
      "min      0.000000e+00  4.500000e+03     0.000000  2017.000000    1.000000   \n",
      "25%      9.025750e+04  1.100000e+05     0.413374  2020.000000    4.000000   \n",
      "50%      1.416000e+05  2.140000e+05     0.625957  2021.000000    7.000000   \n",
      "75%      1.992075e+05  3.752500e+05     1.020047  2022.000000   10.000000   \n",
      "max      2.083410e+06  3.187900e+08    20.020000  2023.000000   12.000000   \n",
      "\n",
      "              Day  \n",
      "count  560.000000  \n",
      "mean    15.817857  \n",
      "std      9.149467  \n",
      "min      1.000000  \n",
      "25%      8.000000  \n",
      "50%     17.000000  \n",
      "75%     23.000000  \n",
      "max     31.000000  \n",
      "                Assessed Value  Sale Amount  Sales Ratio      Year     Month  \\\n",
      "Assessed Value        1.000000     0.048048    -0.046309  0.017759 -0.014153   \n",
      "Sale Amount           0.048048     1.000000    -0.040326  0.004436 -0.000965   \n",
      "Sales Ratio          -0.046309    -0.040326     1.000000 -0.008175  0.013997   \n",
      "Year                  0.017759     0.004436    -0.008175  1.000000 -0.140702   \n",
      "Month                -0.014153    -0.000965     0.013997 -0.140702  1.000000   \n",
      "Day                  -0.026584    -0.045498     0.056925  0.012419  0.000674   \n",
      "\n",
      "                     Day  \n",
      "Assessed Value -0.026584  \n",
      "Sale Amount    -0.045498  \n",
      "Sales Ratio     0.056925  \n",
      "Year            0.012419  \n",
      "Month           0.000674  \n",
      "Day             1.000000  \n"
     ]
    },
    {
     "data": {
      "image/png": "[encoded data removed]",
      "text/plain": [
       "<Figure size 640x480 with 2 Axes>"
      ]
     },
     "metadata": {},
     "output_type": "display_data"
    }
   ],
   "source": [
    "# Summary statistics\n",
    "print(Real_Estate_Sales_df.describe())\n",
    "\n",
    "# Correlation matrix\n",
    "print(Real_Estate_Sales_df.corr())\n",
    "\n",
    "# Plotting the correlation matrix\n",
    "import seaborn as sns\n",
    "sns.heatmap(Real_Estate_Sales_df.corr(), annot=True, cmap='coolwarm')\n",
    "plt.show()"
   ]
  },
  {
   "cell_type": "markdown",
   "id": "1281fb7f-9322-4f3c-af97-a83ad189aebc",
   "metadata": {},
   "source": [
    "## Step 5: Feature Engineering"
   ]
  },
  {
   "cell_type": "markdown",
   "id": "e85354db-3f23-4298-a52a-125cab1103ea",
   "metadata": {},
   "source": [
    "Feature engineering involves creating new features or transforming existing ones to improve the model's performance.\r\n",
    "\r\n"
   ]
  },
  {
   "cell_type": "code",
   "execution_count": 34,
   "id": "5e217c6d-af97-4f8c-84a2-fe59fe7e096f",
   "metadata": {},
   "outputs": [
    {
     "name": "stdout",
     "output_type": "stream",
     "text": [
      "      Assessed Value  Sale Amount  Sales Ratio  Year  Month  Day\n",
      "527         207700.0     400000.0       0.5193  2023      9   20\n",
      "922          49700.0      29900.0       1.6622  2023      2   27\n",
      "940         208230.0     423261.0       0.4920  2022     10   31\n",
      "1345        169050.0     351000.0       0.4816  2023      3   30\n",
      "1632        769900.0    3500000.0       0.2200  2023      4   26\n"
     ]
    }
   ],
   "source": [
    "\n",
    "\n",
    "# Display the first few rows after feature engineering\n",
    "print(Real_Estate_Sales_df.head())"
   ]
  },
  {
   "cell_type": "markdown",
   "id": "d2a9f337-7203-4eef-90a8-0399e13d6665",
   "metadata": {},
   "source": [
    "## Step 6: Splitting the Data"
   ]
  },
  {
   "cell_type": "markdown",
   "id": "58ab346e-cbe7-48dd-b803-8106c8bf31b2",
   "metadata": {},
   "source": [
    "Split the data into training and testing sets"
   ]
  },
  {
   "cell_type": "code",
   "execution_count": 35,
   "id": "1def5e8e-afc3-497d-b8bf-bd045b94135a",
   "metadata": {},
   "outputs": [
    {
     "name": "stdout",
     "output_type": "stream",
     "text": [
      "(448, 5) (112, 5)\n"
     ]
    }
   ],
   "source": [
    "# Define features (X) and target (y)\n",
    "X = Real_Estate_Sales_df.drop(['Sale Amount'], axis=1)\n",
    "y = Real_Estate_Sales_df['Sale Amount']\n",
    "\n",
    "# Split the data into training and testing sets\n",
    "X_train, X_test, y_train, y_test = train_test_split(X, y, test_size=0.2, random_state=42)\n",
    "\n",
    "print(X_train.shape, X_test.shape)"
   ]
  },
  {
   "cell_type": "markdown",
   "id": "287a13e2-f942-4ef3-9603-63f4bb166f48",
   "metadata": {},
   "source": [
    "## Step 7: Model Selection and Training"
   ]
  },
  {
   "cell_type": "code",
   "execution_count": 36,
   "id": "7de98364-1b97-4d95-9f4b-0007102661d8",
   "metadata": {},
   "outputs": [
    {
     "data": {
      "text/html": [
       "<style>#sk-container-id-3 {color: black;background-color: white;}#sk-container-id-3 pre{padding: 0;}#sk-container-id-3 div.sk-toggleable {background-color: white;}#sk-container-id-3 label.sk-toggleable__label {cursor: pointer;display: block;width: 100%;margin-bottom: 0;padding: 0.3em;box-sizing: border-box;text-align: center;}#sk-container-id-3 label.sk-toggleable__label-arrow:before {content: \"▸\";float: left;margin-right: 0.25em;color: #696969;}#sk-container-id-3 label.sk-toggleable__label-arrow:hover:before {color: black;}#sk-container-id-3 div.sk-estimator:hover label.sk-toggleable__label-arrow:before {color: black;}#sk-container-id-3 div.sk-toggleable__content {max-height: 0;max-width: 0;overflow: hidden;text-align: left;background-color: #f0f8ff;}#sk-container-id-3 div.sk-toggleable__content pre {margin: 0.2em;color: black;border-radius: 0.25em;background-color: #f0f8ff;}#sk-container-id-3 input.sk-toggleable__control:checked~div.sk-toggleable__content {max-height: 200px;max-width: 100%;overflow: auto;}#sk-container-id-3 input.sk-toggleable__control:checked~label.sk-toggleable__label-arrow:before {content: \"▾\";}#sk-container-id-3 div.sk-estimator input.sk-toggleable__control:checked~label.sk-toggleable__label {background-color: #d4ebff;}#sk-container-id-3 div.sk-label input.sk-toggleable__control:checked~label.sk-toggleable__label {background-color: #d4ebff;}#sk-container-id-3 input.sk-hidden--visually {border: 0;clip: rect(1px 1px 1px 1px);clip: rect(1px, 1px, 1px, 1px);height: 1px;margin: -1px;overflow: hidden;padding: 0;position: absolute;width: 1px;}#sk-container-id-3 div.sk-estimator {font-family: monospace;background-color: #f0f8ff;border: 1px dotted black;border-radius: 0.25em;box-sizing: border-box;margin-bottom: 0.5em;}#sk-container-id-3 div.sk-estimator:hover {background-color: #d4ebff;}#sk-container-id-3 div.sk-parallel-item::after {content: \"\";width: 100%;border-bottom: 1px solid gray;flex-grow: 1;}#sk-container-id-3 div.sk-label:hover label.sk-toggleable__label {background-color: #d4ebff;}#sk-container-id-3 div.sk-serial::before {content: \"\";position: absolute;border-left: 1px solid gray;box-sizing: border-box;top: 0;bottom: 0;left: 50%;z-index: 0;}#sk-container-id-3 div.sk-serial {display: flex;flex-direction: column;align-items: center;background-color: white;padding-right: 0.2em;padding-left: 0.2em;position: relative;}#sk-container-id-3 div.sk-item {position: relative;z-index: 1;}#sk-container-id-3 div.sk-parallel {display: flex;align-items: stretch;justify-content: center;background-color: white;position: relative;}#sk-container-id-3 div.sk-item::before, #sk-container-id-3 div.sk-parallel-item::before {content: \"\";position: absolute;border-left: 1px solid gray;box-sizing: border-box;top: 0;bottom: 0;left: 50%;z-index: -1;}#sk-container-id-3 div.sk-parallel-item {display: flex;flex-direction: column;z-index: 1;position: relative;background-color: white;}#sk-container-id-3 div.sk-parallel-item:first-child::after {align-self: flex-end;width: 50%;}#sk-container-id-3 div.sk-parallel-item:last-child::after {align-self: flex-start;width: 50%;}#sk-container-id-3 div.sk-parallel-item:only-child::after {width: 0;}#sk-container-id-3 div.sk-dashed-wrapped {border: 1px dashed gray;margin: 0 0.4em 0.5em 0.4em;box-sizing: border-box;padding-bottom: 0.4em;background-color: white;}#sk-container-id-3 div.sk-label label {font-family: monospace;font-weight: bold;display: inline-block;line-height: 1.2em;}#sk-container-id-3 div.sk-label-container {text-align: center;}#sk-container-id-3 div.sk-container {/* jupyter's `normalize.less` sets `[hidden] { display: none; }` but bootstrap.min.css set `[hidden] { display: none !important; }` so we also need the `!important` here to be able to override the default hidden behavior on the sphinx rendered scikit-learn.org. See: https://github.com/scikit-learn/scikit-learn/issues/21755 */display: inline-block !important;position: relative;}#sk-container-id-3 div.sk-text-repr-fallback {display: none;}</style><div id=\"sk-container-id-3\" class=\"sk-top-container\"><div class=\"sk-text-repr-fallback\"><pre>LinearRegression()</pre><b>In a Jupyter environment, please rerun this cell to show the HTML representation or trust the notebook. <br />On GitHub, the HTML representation is unable to render, please try loading this page with nbviewer.org.</b></div><div class=\"sk-container\" hidden><div class=\"sk-item\"><div class=\"sk-estimator sk-toggleable\"><input class=\"sk-toggleable__control sk-hidden--visually\" id=\"sk-estimator-id-3\" type=\"checkbox\" checked><label for=\"sk-estimator-id-3\" class=\"sk-toggleable__label sk-toggleable__label-arrow\">LinearRegression</label><div class=\"sk-toggleable__content\"><pre>LinearRegression()</pre></div></div></div></div></div>"
      ],
      "text/plain": [
       "LinearRegression()"
      ]
     },
     "execution_count": 36,
     "metadata": {},
     "output_type": "execute_result"
    }
   ],
   "source": [
    "# Initialize the model\n",
    "model = LinearRegression()\n",
    "\n",
    "# Train the model\n",
    "model.fit(X_train, y_train)"
   ]
  },
  {
   "cell_type": "markdown",
   "id": "d9b07abe-c54c-47d5-9cd0-bd239d4ee448",
   "metadata": {},
   "source": [
    "## Step 8: Model Evaluation"
   ]
  },
  {
   "cell_type": "markdown",
   "id": "01d1093f-7e93-46ce-a44b-d2ea175df0d8",
   "metadata": {},
   "source": [
    "Evaluate the model's performance on the test data."
   ]
  },
  {
   "cell_type": "code",
   "execution_count": 37,
   "id": "44d470c6-e9b1-4fc4-abb5-530224336b71",
   "metadata": {},
   "outputs": [
    {
     "name": "stdout",
     "output_type": "stream",
     "text": [
      "Mean Squared Error: 1358146224171.0066\n"
     ]
    },
    {
     "data": {
      "image/png": "[encoded data removed]",
      "text/plain": [
       "<Figure size 640x480 with 1 Axes>"
      ]
     },
     "metadata": {},
     "output_type": "display_data"
    }
   ],
   "source": [
    "# Make predictions\n",
    "y_pred = model.predict(X_test)\n",
    "\n",
    "# Calculate the Mean Squared Error (MSE)\n",
    "mse = mean_squared_error(y_test, y_pred)\n",
    "print(f'Mean Squared Error: {mse}')\n",
    "\n",
    "# Plot the actual vs predicted values\n",
    "plt.scatter(y_test, y_pred)\n",
    "plt.xlabel('Actual')\n",
    "plt.ylabel('Predicted')\n",
    "plt.title('Actual vs Predicted')\n",
    "plt.show()"
   ]
  },
  {
   "cell_type": "markdown",
   "id": "c2b51773-bb22-4be6-803e-f2fdc32f6e62",
   "metadata": {},
   "source": [
    "## Step 9: Making Predictions"
   ]
  },
  {
   "cell_type": "markdown",
   "id": "f8fc5f01-bb2d-4f56-ad6d-b03da88dde1c",
   "metadata": {},
   "source": [
    "You can now use the trained model to make predictions on new data."
   ]
  },
  {
   "cell_type": "code",
   "execution_count": 41,
   "id": "cee9b3e6-8ae5-4a42-8333-a053aed4e2ea",
   "metadata": {},
   "outputs": [
    {
     "name": "stdout",
     "output_type": "stream",
     "text": [
      "Predicted Total Sales: 872499.7062873021\n"
     ]
    }
   ],
   "source": [
    "# Example: Predict on new data\n",
    "new_data = pd.DataFrame({\n",
    "   \n",
    "    'Assessed Value': [20770],\n",
    "\n",
    "    'Sales Ratio': [0.5],\n",
    "    'Year': [2026],\n",
    "    'Month': [5],\n",
    "    'Day': [15],\n",
    "    \n",
    "})\n",
    "\n",
    "# Save the model to a file\n",
    "joblib.dump(model, 'real_estate_sales_model.pkl')\n",
    "\n",
    "predicted_sales = model.predict(new_data)\n",
    "print(f'Predicted Total Sales: {predicted_sales[0]}')"
   ]
  },
  {
   "cell_type": "code",
   "execution_count": null,
   "id": "767ae50f-3c8b-4750-aa5a-88b6068a5195",
   "metadata": {},
   "outputs": [],
   "source": []
  }
 ],
 "metadata": {
  "kernelspec": {
   "display_name": "Python 3 (ipykernel)",
   "language": "python",
   "name": "python3"
  },
  "language_info": {
   "codemirror_mode": {
    "name": "ipython",
    "version": 3
   },
   "file_extension": ".py",
   "mimetype": "text/x-python",
   "name": "python",
   "nbconvert_exporter": "python",
   "pygments_lexer": "ipython3",
   "version": "3.11.7"
  }
 },
 "nbformat": 4,
 "nbformat_minor": 5
}
